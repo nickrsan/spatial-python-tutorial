{
 "cells": [
  {
   "cell_type": "markdown",
   "id": "895d6be0-664d-4c19-8f9c-1a40bffcef59",
   "metadata": {},
   "source": [
    "# Other Resources\n",
    "Here are some additional tutorials and resources that may be useful as points of reference:\n",
    "\n",
    "1. [Data Carpentry's Geospatial Workshop](https://datacarpentry.org/geospatial-workshop/)"
   ]
  },
  {
   "cell_type": "markdown",
   "id": "923e5f1c-567b-44d2-b35b-155610d99482",
   "metadata": {},
   "source": [
    "## Housekeeping and installations\n",
    "First, some housekeeping. On linux/mac machines, dependencies are easy to build, but on Windows machines, things get weird quickly.\n",
    "\n",
    "For this notebook, we'll make sure it runs fine in the binder environment (yay!), but we want you to have some notes so that you don't throw your computer out the window the first time you try to apply what you've learned outside of the notebook.\n",
    "\n",
    "Anaconda/conda environments are often a solution, but I've seen `geopandas` break conda environments (entirely) as often as I've successfully installed it, so I recommend a different approach. Use your preferred environment manager, and install the wheels directly from Christopher Gohlke, who builds current wheels for current Python versions of common spatial software, after which it's safe to `pip install` geopandas.\n",
    "\n",
    "### Linux/Mac\n",
    "Here's what that looks like. On Linux/Mac, `python -m pip install geopandas` should get you the whole stack, though you may need to install some system packages for gdal (gdal-bin, gdal-dev) first.\n",
    "\n",
    "If you want to use geopandas on one of these environments though, you should be safe to take a look at both the:\n",
    "1. [`gdal` installation instructions](https://pypi.org/project/GDAL/) and\n",
    "2. the [`geopandas` installation instructions](https://geopandas.org/en/stable/getting_started/install.html)\n",
    "\n",
    "### On Windows\n",
    "\n",
    "\n",
    "\n",
    "All of that is subject to change - these aren't definitive, but are meant to give you a spot to start after this workshop. The spatial python ecosystem is dispersed, so you're not stuck trying to work with geopandas, but it's powerful and may work well with many workflows RSEs already use.\n",
    "\n",
    "https://github.com/nickrsan/spatial_resources/blob/main/installing_spatial_python_windows.md"
   ]
  },
  {
   "cell_type": "code",
   "execution_count": null,
   "id": "0ca969f7-0874-4efa-a5c0-a844595cb8d3",
   "metadata": {},
   "outputs": [],
   "source": []
  },
  {
   "cell_type": "code",
   "execution_count": null,
   "id": "f1ac9918-5002-4f54-9c06-6e62bc510c65",
   "metadata": {},
   "outputs": [],
   "source": []
  }
 ],
 "metadata": {
  "kernelspec": {
   "display_name": "Python 3 (ipykernel)",
   "language": "python",
   "name": "python3"
  },
  "language_info": {
   "codemirror_mode": {
    "name": "ipython",
    "version": 3
   },
   "file_extension": ".py",
   "mimetype": "text/x-python",
   "name": "python",
   "nbconvert_exporter": "python",
   "pygments_lexer": "ipython3",
   "version": "3.10.4"
  }
 },
 "nbformat": 4,
 "nbformat_minor": 5
}
