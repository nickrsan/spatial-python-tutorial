{
 "cells": [
  {
   "cell_type": "markdown",
   "id": "16f8ae19-df5e-4993-93ac-83db19a7e9ab",
   "metadata": {},
   "source": [
    "## Rough Agenda\n",
    "\n",
    "* 00:00 – 00:15 Welcome and introductions\n",
    "* 00:15 – 00:30 Technical setup in Colab or Jupyter\n",
    "* 00:30 – 00:55 Introduction to spatial data types\n",
    "* 00:55 – 01:30 Hands on with spatial data – simple mapping and joins\n",
    "* 01:30 – 01:45 Coordinate Systems\n",
    "* 01:45 – 02:00 Break\n",
    "* 02:00 – 02:45 Rasters and zonal statistics\n",
    "* 02:45 – 03:15 Putting the pieces together – spatial joins, aggregations, and mapping\n",
    "* 03:15 – 03:30 Wrap up and further resources "
   ]
  },
  {
   "cell_type": "markdown",
   "id": "5d1dcfd3-fd16-4721-8ca3-6d84a142bc3c",
   "metadata": {},
   "source": [
    "# Goals and Approach\n",
    "This tutorial assumes familiarity with tabular data, table joins, and general data science and data structures that research software engineers will, by and large, understand. It will focus on the addition of spatial capabilities to that toolset and intentionally chooses geopandas and related libraries for data processing so as to act as a layer on top of other tools for working with data rather than a whole new suite of concepts. It won't explain concepts like tabular subsets (often called selections in GUI-based GIS tools) in depth, because these are common to data science approaches, but it will explain new capabilities provided by spatial data."
   ]
  },
  {
   "cell_type": "markdown",
   "id": "cf502623-e85a-487c-a5bf-774d5281ccbd",
   "metadata": {},
   "source": [
    "## How is Spatial Data Different?\n",
    "For most experienced analysts of tabular and image data, spatial data will be familiar, but it provides a few conceptual differences:\n",
    "1. Tabular fields with spatial information can be connected to other tables by their spatial information leading to new kinds of joins based not on keys, but on *location*, with varied criteria for matching. This is a deeply powerful capability leading to a whole new class of questions and answers\n",
    "2. Image data - not just visible light images, but also gridded datasets - have geographic referencing allowing them to be overlaid in space with other image or tabular data.\n",
    "\n",
    "## Spatial Data Questions\n",
    "* **What exists** at a certain location?\n",
    "* **Where** (or when) are certain conditions satisfied?\n",
    "* **What has changed** in a place over time?\n",
    "* What **spatial patterns** exist?\n",
    "* **What if** this condition occurred at this place? (modeling, hypothesis testing)\n",
    "* **Where** do variables interact?\n",
    "* We can try to answer questions of “why” and “how” too, but they require reformulating the question\n"
   ]
  },
  {
   "cell_type": "markdown",
   "id": "1311f1b0-8052-4bce-a520-d62daba622f3",
   "metadata": {},
   "source": [
    "# Spatial Data Types"
   ]
  },
  {
   "cell_type": "code",
   "execution_count": null,
   "id": "bb5c7093-9db1-44b1-a7d5-d4d145a54f64",
   "metadata": {},
   "outputs": [],
   "source": [
    "# show a folium map of point data, line data, and polygon data"
   ]
  },
  {
   "cell_type": "markdown",
   "id": "ffaade7c-aab0-4f3f-8d53-ae7e033b51b7",
   "metadata": {},
   "source": [
    "# Making Simple Maps"
   ]
  },
  {
   "cell_type": "markdown",
   "id": "2972a502-1976-435d-8d48-e242ca7f21b7",
   "metadata": {},
   "source": [
    "# Spatial Joins"
   ]
  },
  {
   "cell_type": "markdown",
   "id": "85088f29-82e7-4bd7-8aed-042cac2155b3",
   "metadata": {},
   "source": [
    "# Coordinate Systems"
   ]
  },
  {
   "cell_type": "markdown",
   "id": "cca33666-a17e-4923-af32-4e1cf0cca036",
   "metadata": {},
   "source": [
    "# Raster Data"
   ]
  },
  {
   "cell_type": "markdown",
   "id": "9357dc91-466a-48cd-b57f-ecbe600bc993",
   "metadata": {},
   "source": [
    "# Raster to Vector Joins -> Zonal Statistics!"
   ]
  },
  {
   "cell_type": "markdown",
   "id": "dc9d115c-c0c8-45d1-aead-7b27ad38f561",
   "metadata": {},
   "source": [
    "# Putting the pieces together – spatial joins, aggregations, and mapping"
   ]
  },
  {
   "cell_type": "markdown",
   "id": "923e5f1c-567b-44d2-b35b-155610d99482",
   "metadata": {},
   "source": [
    "# Further Resources\n",
    "## Other tutorials\n",
    "Here are some additional tutorials and resources that may be useful as points of reference:\n",
    "\n",
    "1. [Data Carpentry's Geospatial Workshop](https://datacarpentry.org/geospatial-workshop/)\n",
    "\n",
    "## Housekeeping and installations\n",
    "First, some housekeeping. On linux/mac machines, dependencies are easy to build, but on Windows machines, things get weird quickly.\n",
    "\n",
    "For this notebook, we'll make sure it runs fine in the binder environment (yay!), but we want you to have some notes so that you don't throw your computer out the window the first time you try to apply what you've learned outside of the notebook.\n",
    "\n",
    "Anaconda/conda environments are often a solution, but I've seen `geopandas` break conda environments (entirely) as often as I've successfully installed it, so I recommend a different approach. Use your preferred environment manager, and install the wheels directly from Christopher Gohlke, who builds current wheels for current Python versions of common spatial software, after which it's safe to `pip install` geopandas.\n",
    "\n",
    "### Linux/Mac\n",
    "Here's what that looks like. On Linux/Mac, `python -m pip install geopandas` should get you the whole stack, though you may need to install some system packages for gdal (gdal-bin, gdal-dev) first.\n",
    "\n",
    "If you want to use geopandas on one of these environments though, you should be safe to take a look at both the:\n",
    "1. [`gdal` installation instructions](https://pypi.org/project/GDAL/) and\n",
    "2. the [`geopandas` installation instructions](https://geopandas.org/en/stable/getting_started/install.html)\n",
    "\n",
    "### On Windows\n",
    "\n",
    "\n",
    "\n",
    "All of that is subject to change - these aren't definitive, but are meant to give you a spot to start after this workshop. The spatial python ecosystem is dispersed, so you're not stuck trying to work with geopandas, but it's powerful and may work well with many workflows RSEs already use.\n",
    "\n",
    "https://github.com/nickrsan/spatial_resources/blob/main/installing_spatial_python_windows.md"
   ]
  }
 ],
 "metadata": {
  "kernelspec": {
   "display_name": "Python 3 (ipykernel)",
   "language": "python",
   "name": "python3"
  },
  "language_info": {
   "codemirror_mode": {
    "name": "ipython",
    "version": 3
   },
   "file_extension": ".py",
   "mimetype": "text/x-python",
   "name": "python",
   "nbconvert_exporter": "python",
   "pygments_lexer": "ipython3",
   "version": "3.10.4"
  }
 },
 "nbformat": 4,
 "nbformat_minor": 5
}
