{
 "cells": [
  {
   "cell_type": "markdown",
   "id": "16f8ae19-df5e-4993-93ac-83db19a7e9ab",
   "metadata": {},
   "source": [
    "## Rough Agenda\n",
    "\n",
    "* 00:00 – 00:15 Welcome and introductions\n",
    "* 00:15 – 00:30 Technical setup in Colab or Jupyter\n",
    "* 00:30 – 00:55 Introduction to spatial data types\n",
    "* 00:55 – 01:30 Hands on with spatial data – simple mapping and joins\n",
    "* 01:30 – 01:45 Coordinate Systems\n",
    "* 01:45 – 02:00 Break\n",
    "* 02:00 – 02:45 Rasters and zonal statistics\n",
    "* 02:45 – 03:15 Putting the pieces together – spatial joins, aggregations, and mapping\n",
    "* 03:15 – 03:30 Wrap up and further resources "
   ]
  },
  {
   "cell_type": "markdown",
   "id": "5d1dcfd3-fd16-4721-8ca3-6d84a142bc3c",
   "metadata": {},
   "source": [
    "# Goals and Approach\n",
    "This tutorial assumes familiarity with tabular data, table joins, and general data science and data structures that research software engineers will, by and large, understand. It will focus on the addition of spatial capabilities to that toolset and intentionally chooses geopandas and related libraries for data processing so as to act as a layer on top of other tools for working with data rather than a whole new suite of concepts. It won't explain concepts like tabular subsets (often called selections in GUI-based GIS tools) in depth, because these are common to data science approaches, but it will explain new capabilities provided by spatial data."
   ]
  },
  {
   "cell_type": "markdown",
   "id": "cf502623-e85a-487c-a5bf-774d5281ccbd",
   "metadata": {},
   "source": [
    "## How is Spatial Data Different?\n",
    "For most experienced analysts of tabular and image data, spatial data will be familiar, but it provides a few conceptual differences:\n",
    "1. Tabular fields with spatial information can be connected to other tables by their spatial information leading to new kinds of joins based not on keys, but on *location*, with varied criteria for matching. This is a deeply powerful capability leading to a whole new class of questions and answers\n",
    "2. Image data - not just visible light images, but also gridded datasets - have geographic referencing allowing them to be overlaid in space with other image or tabular data.\n",
    "\n",
    "## Spatial Data Questions\n",
    "* **What exists** at a certain location?\n",
    "* **Where** (or when) are certain conditions satisfied?\n",
    "* **What has changed** in a place over time?\n",
    "* What **spatial patterns** exist?\n",
    "* **What if** this condition occurred at this place? (modeling, hypothesis testing)\n",
    "* **Where** do variables interact?\n",
    "* We can try to answer questions of “why” and “how” too, but they require reformulating the question\n"
   ]
  },
  {
   "cell_type": "markdown",
   "id": "69083cbf-17b5-4f41-8601-b809146a43ca",
   "metadata": {},
   "source": [
    "# Spatial Data Packages in Python\n",
    "To start out, let's review a few of our friends in working with spatial data\n",
    "\n",
    "* **GDAL**: Geospatial Data Abstraction Library - software underlying most of the spatial operations we'll do - you usually don't need to call it directly, but you usually *do* need it installed\n",
    "* **fiona**: Python package for reading/writing spatial data formats\n",
    "* **geopandas**: A package that extends Pandas dataframes so that they also have spatial data support (including spatial operations) - crossing data science approaches with spatial information!\n",
    "* **folium**: A package for making simple maps. We'll use it in this tutorial in order to visualize results of our code within the notebook"
   ]
  },
  {
   "cell_type": "markdown",
   "id": "1311f1b0-8052-4bce-a520-d62daba622f3",
   "metadata": {},
   "source": [
    "# Spatial Data Types"
   ]
  },
  {
   "cell_type": "code",
   "execution_count": 35,
   "id": "bb5c7093-9db1-44b1-a7d5-d4d145a54f64",
   "metadata": {},
   "outputs": [
    {
     "data": {
      "text/html": [
       "<div style=\"width:100%;\"><div style=\"position:relative;width:100%;height:0;padding-bottom:60%;\"><span style=\"color:#565656\">Make this Notebook Trusted to load map: File -> Trust Notebook</span><iframe srcdoc=\"&lt;!DOCTYPE html&gt;\n",
       "&lt;html&gt;\n",
       "&lt;head&gt;\n",
       "    \n",
       "    &lt;meta http-equiv=&quot;content-type&quot; content=&quot;text/html; charset=UTF-8&quot; /&gt;\n",
       "    \n",
       "        &lt;script&gt;\n",
       "            L_NO_TOUCH = false;\n",
       "            L_DISABLE_3D = false;\n",
       "        &lt;/script&gt;\n",
       "    \n",
       "    &lt;style&gt;html, body {width: 100%;height: 100%;margin: 0;padding: 0;}&lt;/style&gt;\n",
       "    &lt;style&gt;#map {position:absolute;top:0;bottom:0;right:0;left:0;}&lt;/style&gt;\n",
       "    &lt;script src=&quot;https://cdn.jsdelivr.net/npm/leaflet@1.9.3/dist/leaflet.js&quot;&gt;&lt;/script&gt;\n",
       "    &lt;script src=&quot;https://code.jquery.com/jquery-1.12.4.min.js&quot;&gt;&lt;/script&gt;\n",
       "    &lt;script src=&quot;https://cdn.jsdelivr.net/npm/bootstrap@5.2.2/dist/js/bootstrap.bundle.min.js&quot;&gt;&lt;/script&gt;\n",
       "    &lt;script src=&quot;https://cdnjs.cloudflare.com/ajax/libs/Leaflet.awesome-markers/2.0.2/leaflet.awesome-markers.js&quot;&gt;&lt;/script&gt;\n",
       "    &lt;link rel=&quot;stylesheet&quot; href=&quot;https://cdn.jsdelivr.net/npm/leaflet@1.9.3/dist/leaflet.css&quot;/&gt;\n",
       "    &lt;link rel=&quot;stylesheet&quot; href=&quot;https://cdn.jsdelivr.net/npm/bootstrap@5.2.2/dist/css/bootstrap.min.css&quot;/&gt;\n",
       "    &lt;link rel=&quot;stylesheet&quot; href=&quot;https://netdna.bootstrapcdn.com/bootstrap/3.0.0/css/bootstrap.min.css&quot;/&gt;\n",
       "    &lt;link rel=&quot;stylesheet&quot; href=&quot;https://cdn.jsdelivr.net/npm/@fortawesome/fontawesome-free@6.2.0/css/all.min.css&quot;/&gt;\n",
       "    &lt;link rel=&quot;stylesheet&quot; href=&quot;https://cdnjs.cloudflare.com/ajax/libs/Leaflet.awesome-markers/2.0.2/leaflet.awesome-markers.css&quot;/&gt;\n",
       "    &lt;link rel=&quot;stylesheet&quot; href=&quot;https://cdn.jsdelivr.net/gh/python-visualization/folium/folium/templates/leaflet.awesome.rotate.min.css&quot;/&gt;\n",
       "    \n",
       "            &lt;meta name=&quot;viewport&quot; content=&quot;width=device-width,\n",
       "                initial-scale=1.0, maximum-scale=1.0, user-scalable=no&quot; /&gt;\n",
       "            &lt;style&gt;\n",
       "                #map_9b75e2b7817e8b16cccc595217d5d8ba {\n",
       "                    position: relative;\n",
       "                    width: 100.0%;\n",
       "                    height: 100.0%;\n",
       "                    left: 0.0%;\n",
       "                    top: 0.0%;\n",
       "                }\n",
       "                .leaflet-container { font-size: 1rem; }\n",
       "            &lt;/style&gt;\n",
       "        \n",
       "&lt;/head&gt;\n",
       "&lt;body&gt;\n",
       "    \n",
       "    \n",
       "            &lt;div class=&quot;folium-map&quot; id=&quot;map_9b75e2b7817e8b16cccc595217d5d8ba&quot; &gt;&lt;/div&gt;\n",
       "        \n",
       "&lt;/body&gt;\n",
       "&lt;script&gt;\n",
       "    \n",
       "    \n",
       "            var map_9b75e2b7817e8b16cccc595217d5d8ba = L.map(\n",
       "                &quot;map_9b75e2b7817e8b16cccc595217d5d8ba&quot;,\n",
       "                {\n",
       "                    center: [37.365, -120.424],\n",
       "                    crs: L.CRS.EPSG3857,\n",
       "                    zoom: 16,\n",
       "                    zoomControl: true,\n",
       "                    preferCanvas: false,\n",
       "                }\n",
       "            );\n",
       "\n",
       "            \n",
       "\n",
       "        \n",
       "    \n",
       "            var tile_layer_d655d392ce6cc641bbf2586346be4137 = L.tileLayer(\n",
       "                &quot;https://{s}.tile.openstreetmap.org/{z}/{x}/{y}.png&quot;,\n",
       "                {&quot;attribution&quot;: &quot;Data by \\u0026copy; \\u003ca target=\\&quot;_blank\\&quot; href=\\&quot;http://openstreetmap.org\\&quot;\\u003eOpenStreetMap\\u003c/a\\u003e, under \\u003ca target=\\&quot;_blank\\&quot; href=\\&quot;http://www.openstreetmap.org/copyright\\&quot;\\u003eODbL\\u003c/a\\u003e.&quot;, &quot;detectRetina&quot;: false, &quot;maxNativeZoom&quot;: 18, &quot;maxZoom&quot;: 18, &quot;minZoom&quot;: 0, &quot;noWrap&quot;: false, &quot;opacity&quot;: 1, &quot;subdomains&quot;: &quot;abc&quot;, &quot;tms&quot;: false}\n",
       "            ).addTo(map_9b75e2b7817e8b16cccc595217d5d8ba);\n",
       "        \n",
       "&lt;/script&gt;\n",
       "&lt;/html&gt;\" style=\"position:absolute;width:100%;height:100%;left:0;top:0;border:none !important;\" allowfullscreen webkitallowfullscreen mozallowfullscreen></iframe></div></div>"
      ],
      "text/plain": [
       "<folium.folium.Map at 0x15399966c20>"
      ]
     },
     "execution_count": 35,
     "metadata": {},
     "output_type": "execute_result"
    }
   ],
   "source": [
    "# Let's start by just showing a basic Leaflet map with none of our own data on it\n",
    "\n",
    "import folium\n",
    "m = folium.Map(location=(37.365, -120.424), zoom_start=16)  # initialize a folium object over UC Merced\n",
    "# we set its center to a latitude and longitude (note coordinate order. Lat,Lon is roughly Y,X not X,Y - roughly because these are angular coordinates, not cartesian)\n",
    "# zoom levels are powers of 2, more zoomed in the higher the number\n",
    "\n",
    "m   # show the map in the notebook"
   ]
  },
  {
   "cell_type": "code",
   "execution_count": null,
   "id": "c48c23a6-bc7b-48c0-9c5e-d94cd175e96a",
   "metadata": {},
   "outputs": [],
   "source": [
    "# show a folium map of point data, line data, and polygon data"
   ]
  },
  {
   "cell_type": "markdown",
   "id": "ffaade7c-aab0-4f3f-8d53-ae7e033b51b7",
   "metadata": {},
   "source": [
    "# Making Simple Maps"
   ]
  },
  {
   "cell_type": "markdown",
   "id": "2972a502-1976-435d-8d48-e242ca7f21b7",
   "metadata": {},
   "source": [
    "# Spatial Joins"
   ]
  },
  {
   "cell_type": "markdown",
   "id": "85088f29-82e7-4bd7-8aed-042cac2155b3",
   "metadata": {},
   "source": [
    "# Coordinate Systems"
   ]
  },
  {
   "cell_type": "markdown",
   "id": "cca33666-a17e-4923-af32-4e1cf0cca036",
   "metadata": {},
   "source": [
    "# Raster Data"
   ]
  },
  {
   "cell_type": "markdown",
   "id": "9357dc91-466a-48cd-b57f-ecbe600bc993",
   "metadata": {},
   "source": [
    "# Raster to Vector Joins -> Zonal Statistics!"
   ]
  },
  {
   "cell_type": "markdown",
   "id": "dc9d115c-c0c8-45d1-aead-7b27ad38f561",
   "metadata": {},
   "source": [
    "# Putting the pieces together – spatial joins, aggregations, and mapping"
   ]
  },
  {
   "cell_type": "markdown",
   "id": "923e5f1c-567b-44d2-b35b-155610d99482",
   "metadata": {},
   "source": [
    "# Further Resources\n",
    "## Other tutorials\n",
    "Here are some additional tutorials and resources that may be useful as points of reference:\n",
    "\n",
    "1. [Data Carpentry's Geospatial Workshop](https://datacarpentry.org/geospatial-workshop/)\n",
    "\n",
    "## Housekeeping and installations\n",
    "First, some housekeeping. On linux/mac machines, dependencies are easy to build, but on Windows machines, things get weird quickly.\n",
    "\n",
    "For this notebook, we'll make sure it runs fine in the binder environment (yay!), but we want you to have some notes so that you don't throw your computer out the window the first time you try to apply what you've learned outside of the notebook.\n",
    "\n",
    "Anaconda/conda environments are often a solution, but I've seen `geopandas` break conda environments (entirely) as often as I've successfully installed it, so I recommend a different approach. Use your preferred environment manager, and install the wheels directly from Christopher Gohlke, who builds current wheels for current Python versions of common spatial software, after which it's safe to `pip install` geopandas.\n",
    "\n",
    "### Linux/Mac\n",
    "Here's what that looks like. On Linux/Mac, `python -m pip install geopandas` should get you the whole stack, though you may need to install some system packages for gdal (gdal-bin, gdal-dev) first.\n",
    "\n",
    "If you want to use geopandas on one of these environments though, you should be safe to take a look at both the:\n",
    "1. [`gdal` installation instructions](https://pypi.org/project/GDAL/) and\n",
    "2. the [`geopandas` installation instructions](https://geopandas.org/en/stable/getting_started/install.html)\n",
    "\n",
    "### On Windows\n",
    "\n",
    "\n",
    "\n",
    "All of that is subject to change - these aren't definitive, but are meant to give you a spot to start after this workshop. The spatial python ecosystem is dispersed, so you're not stuck trying to work with geopandas, but it's powerful and may work well with many workflows RSEs already use.\n",
    "\n",
    "https://github.com/nickrsan/spatial_resources/blob/main/installing_spatial_python_windows.md"
   ]
  }
 ],
 "metadata": {
  "kernelspec": {
   "display_name": "Python 3 (ipykernel)",
   "language": "python",
   "name": "python3"
  },
  "language_info": {
   "codemirror_mode": {
    "name": "ipython",
    "version": 3
   },
   "file_extension": ".py",
   "mimetype": "text/x-python",
   "name": "python",
   "nbconvert_exporter": "python",
   "pygments_lexer": "ipython3",
   "version": "3.10.4"
  }
 },
 "nbformat": 4,
 "nbformat_minor": 5
}
